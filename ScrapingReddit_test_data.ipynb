{
  "nbformat": 4,
  "nbformat_minor": 0,
  "metadata": {
    "colab": {
      "provenance": [],
      "authorship_tag": "ABX9TyPkixNp6/tSzFZasScIhXir",
      "include_colab_link": true
    },
    "kernelspec": {
      "name": "python3",
      "display_name": "Python 3"
    },
    "language_info": {
      "name": "python"
    }
  },
  "cells": [
    {
      "cell_type": "markdown",
      "metadata": {
        "id": "view-in-github",
        "colab_type": "text"
      },
      "source": [
        "<a href=\"https://colab.research.google.com/github/devinbook/Tagalog-profanity-detection/blob/main/ScrapingReddit_test_data.ipynb\" target=\"_parent\"><img src=\"https://colab.research.google.com/assets/colab-badge.svg\" alt=\"Open In Colab\"/></a>"
      ]
    },
    {
      "cell_type": "code",
      "execution_count": null,
      "metadata": {
        "colab": {
          "base_uri": "https://localhost:8080/"
        },
        "id": "NAQAl0Naoc2O",
        "outputId": "014adbc9-68a8-454b-da6f-def8e1abc84e"
      },
      "outputs": [
        {
          "output_type": "stream",
          "name": "stdout",
          "text": [
            "Requirement already satisfied: praw in /usr/local/lib/python3.10/dist-packages (7.8.0)\n",
            "Requirement already satisfied: prawcore<3,>=2.1 in /usr/local/lib/python3.10/dist-packages (from praw) (2.4.0)\n",
            "Requirement already satisfied: update_checker>=0.18 in /usr/local/lib/python3.10/dist-packages (from praw) (0.18.0)\n",
            "Requirement already satisfied: websocket-client>=0.54.0 in /usr/local/lib/python3.10/dist-packages (from praw) (1.8.0)\n",
            "Requirement already satisfied: requests<3.0,>=2.6.0 in /usr/local/lib/python3.10/dist-packages (from prawcore<3,>=2.1->praw) (2.32.3)\n",
            "Requirement already satisfied: charset-normalizer<4,>=2 in /usr/local/lib/python3.10/dist-packages (from requests<3.0,>=2.6.0->prawcore<3,>=2.1->praw) (3.4.0)\n",
            "Requirement already satisfied: idna<4,>=2.5 in /usr/local/lib/python3.10/dist-packages (from requests<3.0,>=2.6.0->prawcore<3,>=2.1->praw) (3.10)\n",
            "Requirement already satisfied: urllib3<3,>=1.21.1 in /usr/local/lib/python3.10/dist-packages (from requests<3.0,>=2.6.0->prawcore<3,>=2.1->praw) (2.2.3)\n",
            "Requirement already satisfied: certifi>=2017.4.17 in /usr/local/lib/python3.10/dist-packages (from requests<3.0,>=2.6.0->prawcore<3,>=2.1->praw) (2024.8.30)\n"
          ]
        }
      ],
      "source": [
        "!pip install praw"
      ]
    },
    {
      "cell_type": "code",
      "source": [
        "import praw\n",
        "import re\n",
        "import time\n",
        "import pandas as pd"
      ],
      "metadata": {
        "id": "5UAE3Vm6ofcs"
      },
      "execution_count": null,
      "outputs": []
    },
    {
      "cell_type": "code",
      "source": [
        "reddit = praw.Reddit(client_id='uLfq7N-Kp-n_noaXUDVuTg',\n",
        "                     client_secret='IUhw5TKGpWeRI2yweNOEwuzeIVVi8A',\n",
        "                     user_agent='Profanity_tagalog')"
      ],
      "metadata": {
        "id": "otz-odStoyLT"
      },
      "execution_count": null,
      "outputs": []
    },
    {
      "cell_type": "code",
      "source": [
        "tagalog_subreddits = ['Philippines', 'Tagalog', 'pinoy', 'offmychestph']"
      ],
      "metadata": {
        "id": "RydX4ddso0CR"
      },
      "execution_count": null,
      "outputs": []
    },
    {
      "cell_type": "code",
      "source": [
        "def extract_profanity_snippet(text, keyword, words_before=10, words_after=10):\n",
        "    words = text.split()\n",
        "    try:\n",
        "        keyword_index = next(i for i, word in enumerate(words) if keyword.lower() in word.lower())\n",
        "    except StopIteration:\n",
        "        return ''\n",
        "\n",
        "    # Range ng snippet\n",
        "    start = max(0, keyword_index - words_before)\n",
        "    end = min(len(words), keyword_index + words_after + 1)\n",
        "\n",
        "    return ' '.join(words[start:end])\n",
        "\n",
        "def scrape_profanity(keyword, subreddits, max_posts=3000, words_before=10, words_after=10):\n",
        "    posts_scraped = 0\n",
        "    post_data = []\n",
        "\n",
        "    for subreddit_name in subreddits:\n",
        "        print(f\"Searching in subreddit: {subreddit_name} for keyword: {keyword}\")\n",
        "\n",
        "        # Iterator para macheck bawat reddit\n",
        "        submission_iterator = reddit.subreddit(subreddit_name).search(keyword, sort='new', limit=100)\n",
        "\n",
        "        while posts_scraped < max_posts:\n",
        "            try:\n",
        "                for post in submission_iterator:\n",
        "                    combined_text = post.title + \" \" + post.selftext\n",
        "                    profanity_snippet = extract_profanity_snippet(combined_text, keyword, words_before, words_after)\n",
        "\n",
        "                    if profanity_snippet:\n",
        "                        post_data.append({\n",
        "                            \"Text\": profanity_snippet,\n",
        "                            \"Label\": 1,\n",
        "                            \"Profanity Word\": keyword,\n",
        "                            \"Source\": subreddit_name,\n",
        "                            \"Timestamp\": post.created_utc,\n",
        "                            \"Upvotes\": post.score,\n",
        "                            \"URL\": post.url,\n",
        "                            \"Subreddit\": post.subreddit.display_name\n",
        "                        })\n",
        "                        posts_scraped += 1\n",
        "\n",
        "                    if posts_scraped >= max_posts:\n",
        "                        break\n",
        "\n",
        "                if posts_scraped >= max_posts:\n",
        "                    break  # Exit pag max na yung post\n",
        "\n",
        "                if posts_scraped < max_posts:\n",
        "                    print(f\"Posts scraped for {keyword}: {posts_scraped}/{max_posts}. Pausing for 1.1 seconds to avoid rate limits.\")\n",
        "                    time.sleep(1.1)\n",
        "                    submission_iterator = reddit.subreddit(subreddit_name).search(keyword, sort='new', limit=100)\n",
        "\n",
        "            except praw.exceptions.APIException as e:\n",
        "                print(f\"API limit reached, sleeping for {e.sleep_time} seconds.\")\n",
        "                time.sleep(e.sleep_time)\n",
        "            except Exception as e:\n",
        "                print(f\"An error occurred in subreddit {subreddit_name}: {e}\")\n",
        "                break\n",
        "\n",
        "    return post_data\n",
        "\n",
        "profanity_words = [\n",
        "    \"gago\", \"tanga\", \"bobo\", \"puta\", \"ulol\", \"bwisit\",\n",
        "    \"tangina\", \"pakyu\", \"hayop\", \"tarantado\", \"putangina\"\n",
        "]\n",
        "all_scraped_data = []\n",
        "\n",
        "for word in profanity_words:\n",
        "    print(f\"Scraping data for profanity word: {word}\")\n",
        "    scraped_data = scrape_profanity(word, tagalog_subreddits, max_posts=2000, words_before=10, words_after=10)\n",
        "    all_scraped_data.extend(scraped_data)\n",
        "    print(f\"Total posts scraped for {word}: {len(scraped_data)}\")"
      ],
      "metadata": {
        "id": "1rIA-5N_o1vA"
      },
      "execution_count": null,
      "outputs": []
    },
    {
      "cell_type": "code",
      "source": [
        "df = pd.DataFrame(all_scraped_data)"
      ],
      "metadata": {
        "id": "lTYNclPBqStI"
      },
      "execution_count": null,
      "outputs": []
    },
    {
      "cell_type": "code",
      "source": [
        "df.head()"
      ],
      "metadata": {
        "colab": {
          "base_uri": "https://localhost:8080/",
          "height": 206
        },
        "id": "2je_qIrIqUOZ",
        "outputId": "6b61b2db-f583-4397-e6d6-5578fc5fd47c"
      },
      "execution_count": null,
      "outputs": [
        {
          "output_type": "execute_result",
          "data": {
            "text/plain": [
              "                                                Text  Label Profanity Word  \\\n",
              "0  kids. He, more often than not, hurtfully calls...      1          tanga   \n",
              "1  kids. He, more often than not, hurtfully calls...      1          tanga   \n",
              "2  kids. He, more often than not, hurtfully calls...      1          tanga   \n",
              "3  kids. He, more often than not, hurtfully calls...      1          tanga   \n",
              "4  kids. He, more often than not, hurtfully calls...      1          tanga   \n",
              "\n",
              "     Source     Timestamp  Upvotes  \\\n",
              "0  Filipino  1.720022e+09        1   \n",
              "1  Filipino  1.720022e+09        1   \n",
              "2  Filipino  1.720022e+09        1   \n",
              "3  Filipino  1.720022e+09        1   \n",
              "4  Filipino  1.720022e+09        1   \n",
              "\n",
              "                                                 URL Subreddit  \n",
              "0  https://www.reddit.com/r/Filipino/comments/1du...  Filipino  \n",
              "1  https://www.reddit.com/r/Filipino/comments/1du...  Filipino  \n",
              "2  https://www.reddit.com/r/Filipino/comments/1du...  Filipino  \n",
              "3  https://www.reddit.com/r/Filipino/comments/1du...  Filipino  \n",
              "4  https://www.reddit.com/r/Filipino/comments/1du...  Filipino  "
            ],
            "text/html": [
              "\n",
              "  <div id=\"df-1937eb68-76e4-4437-a4cc-5785eb0ce977\" class=\"colab-df-container\">\n",
              "    <div>\n",
              "<style scoped>\n",
              "    .dataframe tbody tr th:only-of-type {\n",
              "        vertical-align: middle;\n",
              "    }\n",
              "\n",
              "    .dataframe tbody tr th {\n",
              "        vertical-align: top;\n",
              "    }\n",
              "\n",
              "    .dataframe thead th {\n",
              "        text-align: right;\n",
              "    }\n",
              "</style>\n",
              "<table border=\"1\" class=\"dataframe\">\n",
              "  <thead>\n",
              "    <tr style=\"text-align: right;\">\n",
              "      <th></th>\n",
              "      <th>Text</th>\n",
              "      <th>Label</th>\n",
              "      <th>Profanity Word</th>\n",
              "      <th>Source</th>\n",
              "      <th>Timestamp</th>\n",
              "      <th>Upvotes</th>\n",
              "      <th>URL</th>\n",
              "      <th>Subreddit</th>\n",
              "    </tr>\n",
              "  </thead>\n",
              "  <tbody>\n",
              "    <tr>\n",
              "      <th>0</th>\n",
              "      <td>kids. He, more often than not, hurtfully calls...</td>\n",
              "      <td>1</td>\n",
              "      <td>tanga</td>\n",
              "      <td>Filipino</td>\n",
              "      <td>1.720022e+09</td>\n",
              "      <td>1</td>\n",
              "      <td>https://www.reddit.com/r/Filipino/comments/1du...</td>\n",
              "      <td>Filipino</td>\n",
              "    </tr>\n",
              "    <tr>\n",
              "      <th>1</th>\n",
              "      <td>kids. He, more often than not, hurtfully calls...</td>\n",
              "      <td>1</td>\n",
              "      <td>tanga</td>\n",
              "      <td>Filipino</td>\n",
              "      <td>1.720022e+09</td>\n",
              "      <td>1</td>\n",
              "      <td>https://www.reddit.com/r/Filipino/comments/1du...</td>\n",
              "      <td>Filipino</td>\n",
              "    </tr>\n",
              "    <tr>\n",
              "      <th>2</th>\n",
              "      <td>kids. He, more often than not, hurtfully calls...</td>\n",
              "      <td>1</td>\n",
              "      <td>tanga</td>\n",
              "      <td>Filipino</td>\n",
              "      <td>1.720022e+09</td>\n",
              "      <td>1</td>\n",
              "      <td>https://www.reddit.com/r/Filipino/comments/1du...</td>\n",
              "      <td>Filipino</td>\n",
              "    </tr>\n",
              "    <tr>\n",
              "      <th>3</th>\n",
              "      <td>kids. He, more often than not, hurtfully calls...</td>\n",
              "      <td>1</td>\n",
              "      <td>tanga</td>\n",
              "      <td>Filipino</td>\n",
              "      <td>1.720022e+09</td>\n",
              "      <td>1</td>\n",
              "      <td>https://www.reddit.com/r/Filipino/comments/1du...</td>\n",
              "      <td>Filipino</td>\n",
              "    </tr>\n",
              "    <tr>\n",
              "      <th>4</th>\n",
              "      <td>kids. He, more often than not, hurtfully calls...</td>\n",
              "      <td>1</td>\n",
              "      <td>tanga</td>\n",
              "      <td>Filipino</td>\n",
              "      <td>1.720022e+09</td>\n",
              "      <td>1</td>\n",
              "      <td>https://www.reddit.com/r/Filipino/comments/1du...</td>\n",
              "      <td>Filipino</td>\n",
              "    </tr>\n",
              "  </tbody>\n",
              "</table>\n",
              "</div>\n",
              "    <div class=\"colab-df-buttons\">\n",
              "\n",
              "  <div class=\"colab-df-container\">\n",
              "    <button class=\"colab-df-convert\" onclick=\"convertToInteractive('df-1937eb68-76e4-4437-a4cc-5785eb0ce977')\"\n",
              "            title=\"Convert this dataframe to an interactive table.\"\n",
              "            style=\"display:none;\">\n",
              "\n",
              "  <svg xmlns=\"http://www.w3.org/2000/svg\" height=\"24px\" viewBox=\"0 -960 960 960\">\n",
              "    <path d=\"M120-120v-720h720v720H120Zm60-500h600v-160H180v160Zm220 220h160v-160H400v160Zm0 220h160v-160H400v160ZM180-400h160v-160H180v160Zm440 0h160v-160H620v160ZM180-180h160v-160H180v160Zm440 0h160v-160H620v160Z\"/>\n",
              "  </svg>\n",
              "    </button>\n",
              "\n",
              "  <style>\n",
              "    .colab-df-container {\n",
              "      display:flex;\n",
              "      gap: 12px;\n",
              "    }\n",
              "\n",
              "    .colab-df-convert {\n",
              "      background-color: #E8F0FE;\n",
              "      border: none;\n",
              "      border-radius: 50%;\n",
              "      cursor: pointer;\n",
              "      display: none;\n",
              "      fill: #1967D2;\n",
              "      height: 32px;\n",
              "      padding: 0 0 0 0;\n",
              "      width: 32px;\n",
              "    }\n",
              "\n",
              "    .colab-df-convert:hover {\n",
              "      background-color: #E2EBFA;\n",
              "      box-shadow: 0px 1px 2px rgba(60, 64, 67, 0.3), 0px 1px 3px 1px rgba(60, 64, 67, 0.15);\n",
              "      fill: #174EA6;\n",
              "    }\n",
              "\n",
              "    .colab-df-buttons div {\n",
              "      margin-bottom: 4px;\n",
              "    }\n",
              "\n",
              "    [theme=dark] .colab-df-convert {\n",
              "      background-color: #3B4455;\n",
              "      fill: #D2E3FC;\n",
              "    }\n",
              "\n",
              "    [theme=dark] .colab-df-convert:hover {\n",
              "      background-color: #434B5C;\n",
              "      box-shadow: 0px 1px 3px 1px rgba(0, 0, 0, 0.15);\n",
              "      filter: drop-shadow(0px 1px 2px rgba(0, 0, 0, 0.3));\n",
              "      fill: #FFFFFF;\n",
              "    }\n",
              "  </style>\n",
              "\n",
              "    <script>\n",
              "      const buttonEl =\n",
              "        document.querySelector('#df-1937eb68-76e4-4437-a4cc-5785eb0ce977 button.colab-df-convert');\n",
              "      buttonEl.style.display =\n",
              "        google.colab.kernel.accessAllowed ? 'block' : 'none';\n",
              "\n",
              "      async function convertToInteractive(key) {\n",
              "        const element = document.querySelector('#df-1937eb68-76e4-4437-a4cc-5785eb0ce977');\n",
              "        const dataTable =\n",
              "          await google.colab.kernel.invokeFunction('convertToInteractive',\n",
              "                                                    [key], {});\n",
              "        if (!dataTable) return;\n",
              "\n",
              "        const docLinkHtml = 'Like what you see? Visit the ' +\n",
              "          '<a target=\"_blank\" href=https://colab.research.google.com/notebooks/data_table.ipynb>data table notebook</a>'\n",
              "          + ' to learn more about interactive tables.';\n",
              "        element.innerHTML = '';\n",
              "        dataTable['output_type'] = 'display_data';\n",
              "        await google.colab.output.renderOutput(dataTable, element);\n",
              "        const docLink = document.createElement('div');\n",
              "        docLink.innerHTML = docLinkHtml;\n",
              "        element.appendChild(docLink);\n",
              "      }\n",
              "    </script>\n",
              "  </div>\n",
              "\n",
              "\n",
              "<div id=\"df-0ffb9b63-95a2-46c5-b5d8-ecd03321e088\">\n",
              "  <button class=\"colab-df-quickchart\" onclick=\"quickchart('df-0ffb9b63-95a2-46c5-b5d8-ecd03321e088')\"\n",
              "            title=\"Suggest charts\"\n",
              "            style=\"display:none;\">\n",
              "\n",
              "<svg xmlns=\"http://www.w3.org/2000/svg\" height=\"24px\"viewBox=\"0 0 24 24\"\n",
              "     width=\"24px\">\n",
              "    <g>\n",
              "        <path d=\"M19 3H5c-1.1 0-2 .9-2 2v14c0 1.1.9 2 2 2h14c1.1 0 2-.9 2-2V5c0-1.1-.9-2-2-2zM9 17H7v-7h2v7zm4 0h-2V7h2v10zm4 0h-2v-4h2v4z\"/>\n",
              "    </g>\n",
              "</svg>\n",
              "  </button>\n",
              "\n",
              "<style>\n",
              "  .colab-df-quickchart {\n",
              "      --bg-color: #E8F0FE;\n",
              "      --fill-color: #1967D2;\n",
              "      --hover-bg-color: #E2EBFA;\n",
              "      --hover-fill-color: #174EA6;\n",
              "      --disabled-fill-color: #AAA;\n",
              "      --disabled-bg-color: #DDD;\n",
              "  }\n",
              "\n",
              "  [theme=dark] .colab-df-quickchart {\n",
              "      --bg-color: #3B4455;\n",
              "      --fill-color: #D2E3FC;\n",
              "      --hover-bg-color: #434B5C;\n",
              "      --hover-fill-color: #FFFFFF;\n",
              "      --disabled-bg-color: #3B4455;\n",
              "      --disabled-fill-color: #666;\n",
              "  }\n",
              "\n",
              "  .colab-df-quickchart {\n",
              "    background-color: var(--bg-color);\n",
              "    border: none;\n",
              "    border-radius: 50%;\n",
              "    cursor: pointer;\n",
              "    display: none;\n",
              "    fill: var(--fill-color);\n",
              "    height: 32px;\n",
              "    padding: 0;\n",
              "    width: 32px;\n",
              "  }\n",
              "\n",
              "  .colab-df-quickchart:hover {\n",
              "    background-color: var(--hover-bg-color);\n",
              "    box-shadow: 0 1px 2px rgba(60, 64, 67, 0.3), 0 1px 3px 1px rgba(60, 64, 67, 0.15);\n",
              "    fill: var(--button-hover-fill-color);\n",
              "  }\n",
              "\n",
              "  .colab-df-quickchart-complete:disabled,\n",
              "  .colab-df-quickchart-complete:disabled:hover {\n",
              "    background-color: var(--disabled-bg-color);\n",
              "    fill: var(--disabled-fill-color);\n",
              "    box-shadow: none;\n",
              "  }\n",
              "\n",
              "  .colab-df-spinner {\n",
              "    border: 2px solid var(--fill-color);\n",
              "    border-color: transparent;\n",
              "    border-bottom-color: var(--fill-color);\n",
              "    animation:\n",
              "      spin 1s steps(1) infinite;\n",
              "  }\n",
              "\n",
              "  @keyframes spin {\n",
              "    0% {\n",
              "      border-color: transparent;\n",
              "      border-bottom-color: var(--fill-color);\n",
              "      border-left-color: var(--fill-color);\n",
              "    }\n",
              "    20% {\n",
              "      border-color: transparent;\n",
              "      border-left-color: var(--fill-color);\n",
              "      border-top-color: var(--fill-color);\n",
              "    }\n",
              "    30% {\n",
              "      border-color: transparent;\n",
              "      border-left-color: var(--fill-color);\n",
              "      border-top-color: var(--fill-color);\n",
              "      border-right-color: var(--fill-color);\n",
              "    }\n",
              "    40% {\n",
              "      border-color: transparent;\n",
              "      border-right-color: var(--fill-color);\n",
              "      border-top-color: var(--fill-color);\n",
              "    }\n",
              "    60% {\n",
              "      border-color: transparent;\n",
              "      border-right-color: var(--fill-color);\n",
              "    }\n",
              "    80% {\n",
              "      border-color: transparent;\n",
              "      border-right-color: var(--fill-color);\n",
              "      border-bottom-color: var(--fill-color);\n",
              "    }\n",
              "    90% {\n",
              "      border-color: transparent;\n",
              "      border-bottom-color: var(--fill-color);\n",
              "    }\n",
              "  }\n",
              "</style>\n",
              "\n",
              "  <script>\n",
              "    async function quickchart(key) {\n",
              "      const quickchartButtonEl =\n",
              "        document.querySelector('#' + key + ' button');\n",
              "      quickchartButtonEl.disabled = true;  // To prevent multiple clicks.\n",
              "      quickchartButtonEl.classList.add('colab-df-spinner');\n",
              "      try {\n",
              "        const charts = await google.colab.kernel.invokeFunction(\n",
              "            'suggestCharts', [key], {});\n",
              "      } catch (error) {\n",
              "        console.error('Error during call to suggestCharts:', error);\n",
              "      }\n",
              "      quickchartButtonEl.classList.remove('colab-df-spinner');\n",
              "      quickchartButtonEl.classList.add('colab-df-quickchart-complete');\n",
              "    }\n",
              "    (() => {\n",
              "      let quickchartButtonEl =\n",
              "        document.querySelector('#df-0ffb9b63-95a2-46c5-b5d8-ecd03321e088 button');\n",
              "      quickchartButtonEl.style.display =\n",
              "        google.colab.kernel.accessAllowed ? 'block' : 'none';\n",
              "    })();\n",
              "  </script>\n",
              "</div>\n",
              "\n",
              "    </div>\n",
              "  </div>\n"
            ],
            "application/vnd.google.colaboratory.intrinsic+json": {
              "type": "dataframe",
              "variable_name": "df",
              "summary": "{\n  \"name\": \"df\",\n  \"rows\": 2000,\n  \"fields\": [\n    {\n      \"column\": \"Text\",\n      \"properties\": {\n        \"dtype\": \"category\",\n        \"num_unique_values\": 1,\n        \"samples\": [\n          \"kids. He, more often than not, hurtfully calls my aunt \\u201ctanga,\\u201d \\u201cbobo,\\u201d \\u201cwalang ambag sa bahay,\\u201d and I can go on\"\n        ],\n        \"semantic_type\": \"\",\n        \"description\": \"\"\n      }\n    },\n    {\n      \"column\": \"Label\",\n      \"properties\": {\n        \"dtype\": \"number\",\n        \"std\": 0,\n        \"min\": 1,\n        \"max\": 1,\n        \"num_unique_values\": 1,\n        \"samples\": [\n          1\n        ],\n        \"semantic_type\": \"\",\n        \"description\": \"\"\n      }\n    },\n    {\n      \"column\": \"Profanity Word\",\n      \"properties\": {\n        \"dtype\": \"category\",\n        \"num_unique_values\": 1,\n        \"samples\": [\n          \"tanga\"\n        ],\n        \"semantic_type\": \"\",\n        \"description\": \"\"\n      }\n    },\n    {\n      \"column\": \"Source\",\n      \"properties\": {\n        \"dtype\": \"category\",\n        \"num_unique_values\": 1,\n        \"samples\": [\n          \"Filipino\"\n        ],\n        \"semantic_type\": \"\",\n        \"description\": \"\"\n      }\n    },\n    {\n      \"column\": \"Timestamp\",\n      \"properties\": {\n        \"dtype\": \"number\",\n        \"std\": 0.0,\n        \"min\": 1720021880.0,\n        \"max\": 1720021880.0,\n        \"num_unique_values\": 1,\n        \"samples\": [\n          1720021880.0\n        ],\n        \"semantic_type\": \"\",\n        \"description\": \"\"\n      }\n    },\n    {\n      \"column\": \"Upvotes\",\n      \"properties\": {\n        \"dtype\": \"number\",\n        \"std\": 0,\n        \"min\": 1,\n        \"max\": 1,\n        \"num_unique_values\": 1,\n        \"samples\": [\n          1\n        ],\n        \"semantic_type\": \"\",\n        \"description\": \"\"\n      }\n    },\n    {\n      \"column\": \"URL\",\n      \"properties\": {\n        \"dtype\": \"category\",\n        \"num_unique_values\": 1,\n        \"samples\": [\n          \"https://www.reddit.com/r/Filipino/comments/1duhq4f/need_advice_on_my_aunts_abusive_livein_partner/\"\n        ],\n        \"semantic_type\": \"\",\n        \"description\": \"\"\n      }\n    },\n    {\n      \"column\": \"Subreddit\",\n      \"properties\": {\n        \"dtype\": \"category\",\n        \"num_unique_values\": 1,\n        \"samples\": [\n          \"Filipino\"\n        ],\n        \"semantic_type\": \"\",\n        \"description\": \"\"\n      }\n    }\n  ]\n}"
            }
          },
          "metadata": {},
          "execution_count": 63
        }
      ]
    },
    {
      "cell_type": "code",
      "source": [
        "df.shape"
      ],
      "metadata": {
        "colab": {
          "base_uri": "https://localhost:8080/"
        },
        "id": "o75fGIeQqZV-",
        "outputId": "e2232719-3550-4519-d3c1-a5fb58894afc"
      },
      "execution_count": null,
      "outputs": [
        {
          "output_type": "execute_result",
          "data": {
            "text/plain": [
              "(2000, 8)"
            ]
          },
          "metadata": {},
          "execution_count": 64
        }
      ]
    },
    {
      "cell_type": "code",
      "source": [
        "df_cleaned = df.drop_duplicates(subset=['Text'], keep='first')"
      ],
      "metadata": {
        "id": "6Z97j3OEqaQY"
      },
      "execution_count": null,
      "outputs": []
    },
    {
      "cell_type": "code",
      "source": [
        "df_cleaned.shape"
      ],
      "metadata": {
        "colab": {
          "base_uri": "https://localhost:8080/"
        },
        "id": "jLYQjmGDqfgm",
        "outputId": "5fc520b6-4bed-4f7b-f01a-8b878cee9130"
      },
      "execution_count": null,
      "outputs": [
        {
          "output_type": "execute_result",
          "data": {
            "text/plain": [
              "(1, 8)"
            ]
          },
          "metadata": {},
          "execution_count": 67
        }
      ]
    },
    {
      "cell_type": "code",
      "source": [
        "df_cleaned.to_csv('11.csv', index=False)\n",
        "from google.colab import files\n",
        "files.download('11.csv')"
      ],
      "metadata": {
        "colab": {
          "base_uri": "https://localhost:8080/",
          "height": 17
        },
        "id": "vNz04h4lqj1T",
        "outputId": "6196e136-722a-444e-f3a8-f049c325d3b1"
      },
      "execution_count": null,
      "outputs": [
        {
          "output_type": "display_data",
          "data": {
            "text/plain": [
              "<IPython.core.display.Javascript object>"
            ],
            "application/javascript": [
              "\n",
              "    async function download(id, filename, size) {\n",
              "      if (!google.colab.kernel.accessAllowed) {\n",
              "        return;\n",
              "      }\n",
              "      const div = document.createElement('div');\n",
              "      const label = document.createElement('label');\n",
              "      label.textContent = `Downloading \"${filename}\": `;\n",
              "      div.appendChild(label);\n",
              "      const progress = document.createElement('progress');\n",
              "      progress.max = size;\n",
              "      div.appendChild(progress);\n",
              "      document.body.appendChild(div);\n",
              "\n",
              "      const buffers = [];\n",
              "      let downloaded = 0;\n",
              "\n",
              "      const channel = await google.colab.kernel.comms.open(id);\n",
              "      // Send a message to notify the kernel that we're ready.\n",
              "      channel.send({})\n",
              "\n",
              "      for await (const message of channel.messages) {\n",
              "        // Send a message to notify the kernel that we're ready.\n",
              "        channel.send({})\n",
              "        if (message.buffers) {\n",
              "          for (const buffer of message.buffers) {\n",
              "            buffers.push(buffer);\n",
              "            downloaded += buffer.byteLength;\n",
              "            progress.value = downloaded;\n",
              "          }\n",
              "        }\n",
              "      }\n",
              "      const blob = new Blob(buffers, {type: 'application/binary'});\n",
              "      const a = document.createElement('a');\n",
              "      a.href = window.URL.createObjectURL(blob);\n",
              "      a.download = filename;\n",
              "      div.appendChild(a);\n",
              "      a.click();\n",
              "      div.remove();\n",
              "    }\n",
              "  "
            ]
          },
          "metadata": {}
        },
        {
          "output_type": "display_data",
          "data": {
            "text/plain": [
              "<IPython.core.display.Javascript object>"
            ],
            "application/javascript": [
              "download(\"download_38c65397-c208-4427-9281-5dc52f9dacc1\", \"11.csv\", 2320)"
            ]
          },
          "metadata": {}
        }
      ]
    }
  ]
}